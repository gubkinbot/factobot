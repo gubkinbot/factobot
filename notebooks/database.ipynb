{
 "cells": [
  {
   "cell_type": "code",
   "execution_count": 1,
   "id": "d3fe44e5-69d6-4a79-952b-e9758d4d21b1",
   "metadata": {
    "execution": {
     "iopub.execute_input": "2023-08-13T19:51:46.517614Z",
     "iopub.status.busy": "2023-08-13T19:51:46.517614Z",
     "iopub.status.idle": "2023-08-13T19:51:47.836481Z",
     "shell.execute_reply": "2023-08-13T19:51:47.836481Z",
     "shell.execute_reply.started": "2023-08-13T19:51:46.517614Z"
    }
   },
   "outputs": [],
   "source": [
    "import pandas as pd\n",
    "import mysql.connector\n",
    "import os\n",
    "from dotenv import load_dotenv\n",
    "import pandas as pd\n",
    "from sqlalchemy import create_engine"
   ]
  },
  {
   "cell_type": "code",
   "execution_count": 2,
   "id": "8c6facc5-7592-4be6-9bb7-cf8a79fa8808",
   "metadata": {
    "execution": {
     "iopub.execute_input": "2023-08-13T19:51:47.836481Z",
     "iopub.status.busy": "2023-08-13T19:51:47.836481Z",
     "iopub.status.idle": "2023-08-13T19:51:47.868126Z",
     "shell.execute_reply": "2023-08-13T19:51:47.868126Z",
     "shell.execute_reply.started": "2023-08-13T19:51:47.836481Z"
    }
   },
   "outputs": [
    {
     "data": {
      "text/plain": [
       "True"
      ]
     },
     "execution_count": 2,
     "metadata": {},
     "output_type": "execute_result"
    }
   ],
   "source": [
    "load_dotenv('../.env')"
   ]
  },
  {
   "cell_type": "code",
   "execution_count": 3,
   "id": "5df4d1b2-6a01-49a4-87b7-2f8bd153d097",
   "metadata": {
    "execution": {
     "iopub.execute_input": "2023-08-13T19:51:47.868126Z",
     "iopub.status.busy": "2023-08-13T19:51:47.868126Z",
     "iopub.status.idle": "2023-08-13T19:51:48.589934Z",
     "shell.execute_reply": "2023-08-13T19:51:48.589934Z",
     "shell.execute_reply.started": "2023-08-13T19:51:47.868126Z"
    }
   },
   "outputs": [
    {
     "data": {
      "text/html": [
       "<div>\n",
       "<style scoped>\n",
       "    .dataframe tbody tr th:only-of-type {\n",
       "        vertical-align: middle;\n",
       "    }\n",
       "\n",
       "    .dataframe tbody tr th {\n",
       "        vertical-align: top;\n",
       "    }\n",
       "\n",
       "    .dataframe thead th {\n",
       "        text-align: right;\n",
       "    }\n",
       "</style>\n",
       "<table border=\"1\" class=\"dataframe\">\n",
       "  <thead>\n",
       "    <tr style=\"text-align: right;\">\n",
       "      <th></th>\n",
       "      <th>note_id</th>\n",
       "      <th>note_text</th>\n",
       "    </tr>\n",
       "  </thead>\n",
       "  <tbody>\n",
       "    <tr>\n",
       "      <th>0</th>\n",
       "      <td>1</td>\n",
       "      <td>Метод `lower()` в Python возвращает строку с с...</td>\n",
       "    </tr>\n",
       "    <tr>\n",
       "      <th>1</th>\n",
       "      <td>2</td>\n",
       "      <td>Одним из простых и эффективных алгоритмов маши...</td>\n",
       "    </tr>\n",
       "    <tr>\n",
       "      <th>2</th>\n",
       "      <td>3</td>\n",
       "      <td>Если вам нужно удалить столбец из DataFrame в ...</td>\n",
       "    </tr>\n",
       "    <tr>\n",
       "      <th>3</th>\n",
       "      <td>4</td>\n",
       "      <td>Логистическая регрессия — это алгоритм машинно...</td>\n",
       "    </tr>\n",
       "    <tr>\n",
       "      <th>4</th>\n",
       "      <td>5</td>\n",
       "      <td>Используйте метод `.split()` для разделения ст...</td>\n",
       "    </tr>\n",
       "  </tbody>\n",
       "</table>\n",
       "</div>"
      ],
      "text/plain": [
       "   note_id                                          note_text\n",
       "0        1  Метод `lower()` в Python возвращает строку с с...\n",
       "1        2  Одним из простых и эффективных алгоритмов маши...\n",
       "2        3  Если вам нужно удалить столбец из DataFrame в ...\n",
       "3        4  Логистическая регрессия — это алгоритм машинно...\n",
       "4        5  Используйте метод `.split()` для разделения ст..."
      ]
     },
     "execution_count": 3,
     "metadata": {},
     "output_type": "execute_result"
    }
   ],
   "source": [
    "openai_facts = pd.read_excel('openai_facts.xlsx')\n",
    "openai_facts.head()"
   ]
  },
  {
   "cell_type": "code",
   "execution_count": 4,
   "id": "78364692-f6e4-4c03-b739-3595c20f44ff",
   "metadata": {
    "execution": {
     "iopub.execute_input": "2023-08-13T19:51:48.591959Z",
     "iopub.status.busy": "2023-08-13T19:51:48.591959Z",
     "iopub.status.idle": "2023-08-13T19:51:48.605991Z",
     "shell.execute_reply": "2023-08-13T19:51:48.605991Z",
     "shell.execute_reply.started": "2023-08-13T19:51:48.591959Z"
    }
   },
   "outputs": [],
   "source": [
    "DB_FACT_HOST = os.getenv(\"DB_FACT_HOST\")\n",
    "DB_FACT_USER = os.getenv(\"DB_FACT_USER\")\n",
    "DB_FACT_PASSWORD = os.getenv(\"DB_FACT_PASSWORD\")\n",
    "DB_FACT_NAME = os.getenv(\"DB_FACT_NAME\")"
   ]
  },
  {
   "cell_type": "code",
   "execution_count": 5,
   "id": "bf22c6f4-3f4b-4d46-aa71-490b80e6bdee",
   "metadata": {
    "execution": {
     "iopub.execute_input": "2023-08-13T19:51:48.605991Z",
     "iopub.status.busy": "2023-08-13T19:51:48.605991Z",
     "iopub.status.idle": "2023-08-13T19:51:48.668507Z",
     "shell.execute_reply": "2023-08-13T19:51:48.668507Z",
     "shell.execute_reply.started": "2023-08-13T19:51:48.605991Z"
    }
   },
   "outputs": [],
   "source": [
    "engine = create_engine(f\"mysql+mysqlconnector://{DB_FACT_USER}:{DB_FACT_PASSWORD}@{DB_FACT_HOST}/{DB_FACT_NAME}\")"
   ]
  },
  {
   "cell_type": "code",
   "execution_count": 7,
   "id": "abbba786-09e5-4ebb-82f3-e1d92010f04c",
   "metadata": {
    "execution": {
     "iopub.execute_input": "2023-08-13T19:52:31.824675Z",
     "iopub.status.busy": "2023-08-13T19:52:31.809040Z",
     "iopub.status.idle": "2023-08-13T19:52:31.996992Z",
     "shell.execute_reply": "2023-08-13T19:52:31.996992Z",
     "shell.execute_reply.started": "2023-08-13T19:52:31.824675Z"
    }
   },
   "outputs": [
    {
     "data": {
      "text/plain": [
       "451"
      ]
     },
     "execution_count": 7,
     "metadata": {},
     "output_type": "execute_result"
    }
   ],
   "source": [
    "openai_facts.to_sql(name='facts', con=engine, if_exists='append', index=False)"
   ]
  },
  {
   "cell_type": "code",
   "execution_count": 8,
   "id": "e88f2ce7-7c0f-4941-a0a5-11e6780a9eda",
   "metadata": {
    "execution": {
     "iopub.execute_input": "2023-08-13T19:52:33.866039Z",
     "iopub.status.busy": "2023-08-13T19:52:33.866039Z",
     "iopub.status.idle": "2023-08-13T19:52:33.944629Z",
     "shell.execute_reply": "2023-08-13T19:52:33.944629Z",
     "shell.execute_reply.started": "2023-08-13T19:52:33.866039Z"
    }
   },
   "outputs": [],
   "source": [
    "fact = pd.read_sql_query(sql='SELECT * FROM facts ORDER BY RAND() LIMIT 1;', con=engine)"
   ]
  },
  {
   "cell_type": "code",
   "execution_count": 9,
   "id": "58c2ea16-42a2-4fb0-b12b-56d82e4d8c3e",
   "metadata": {
    "execution": {
     "iopub.execute_input": "2023-08-13T19:52:34.811343Z",
     "iopub.status.busy": "2023-08-13T19:52:34.811343Z",
     "iopub.status.idle": "2023-08-13T19:52:34.841994Z",
     "shell.execute_reply": "2023-08-13T19:52:34.841994Z",
     "shell.execute_reply.started": "2023-08-13T19:52:34.811343Z"
    }
   },
   "outputs": [
    {
     "data": {
      "text/plain": [
       "296"
      ]
     },
     "execution_count": 9,
     "metadata": {},
     "output_type": "execute_result"
    }
   ],
   "source": [
    "fact.iloc[0].note_id"
   ]
  },
  {
   "cell_type": "code",
   "execution_count": 14,
   "id": "8bbc208c-9557-4cf3-aed5-45e4ae72dc47",
   "metadata": {
    "execution": {
     "iopub.execute_input": "2023-08-13T20:25:27.393545Z",
     "iopub.status.busy": "2023-08-13T20:25:27.393545Z",
     "iopub.status.idle": "2023-08-13T20:25:27.409156Z",
     "shell.execute_reply": "2023-08-13T20:25:27.409156Z",
     "shell.execute_reply.started": "2023-08-13T20:25:27.393545Z"
    }
   },
   "outputs": [
    {
     "data": {
      "text/html": [
       "<div>\n",
       "<style scoped>\n",
       "    .dataframe tbody tr th:only-of-type {\n",
       "        vertical-align: middle;\n",
       "    }\n",
       "\n",
       "    .dataframe tbody tr th {\n",
       "        vertical-align: top;\n",
       "    }\n",
       "\n",
       "    .dataframe thead th {\n",
       "        text-align: right;\n",
       "    }\n",
       "</style>\n",
       "<table border=\"1\" class=\"dataframe\">\n",
       "  <thead>\n",
       "    <tr style=\"text-align: right;\">\n",
       "      <th></th>\n",
       "      <th>user_id</th>\n",
       "      <th>note_id</th>\n",
       "      <th>rating</th>\n",
       "    </tr>\n",
       "  </thead>\n",
       "  <tbody>\n",
       "    <tr>\n",
       "      <th>0</th>\n",
       "      <td>1</td>\n",
       "      <td>2</td>\n",
       "      <td>3</td>\n",
       "    </tr>\n",
       "  </tbody>\n",
       "</table>\n",
       "</div>"
      ],
      "text/plain": [
       "   user_id  note_id  rating\n",
       "0        1        2       3"
      ]
     },
     "execution_count": 14,
     "metadata": {},
     "output_type": "execute_result"
    }
   ],
   "source": [
    "pd.DataFrame(columns=['user_id', 'note_id', 'rating'], data=[[1, 2, 3]])"
   ]
  }
 ],
 "metadata": {
  "kernelspec": {
   "display_name": "Python 3 (ipykernel)",
   "language": "python",
   "name": "python3"
  },
  "language_info": {
   "codemirror_mode": {
    "name": "ipython",
    "version": 3
   },
   "file_extension": ".py",
   "mimetype": "text/x-python",
   "name": "python",
   "nbconvert_exporter": "python",
   "pygments_lexer": "ipython3",
   "version": "3.10.11"
  }
 },
 "nbformat": 4,
 "nbformat_minor": 5
}
