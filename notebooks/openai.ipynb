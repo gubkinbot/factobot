{
 "cells": [
  {
   "cell_type": "code",
   "execution_count": 43,
   "id": "206e3757-4793-4234-b970-cbb0d5f83b50",
   "metadata": {
    "execution": {
     "iopub.execute_input": "2023-08-08T18:15:15.500431Z",
     "iopub.status.busy": "2023-08-08T18:15:15.500431Z",
     "iopub.status.idle": "2023-08-08T18:15:15.512500Z",
     "shell.execute_reply": "2023-08-08T18:15:15.511477Z",
     "shell.execute_reply.started": "2023-08-08T18:15:15.500431Z"
    }
   },
   "outputs": [],
   "source": [
    "import os\n",
    "import openai\n",
    "from dotenv import load_dotenv"
   ]
  },
  {
   "cell_type": "code",
   "execution_count": 44,
   "id": "85ef2772-d55b-4e51-b5c5-00ce7208a6e7",
   "metadata": {
    "execution": {
     "iopub.execute_input": "2023-08-08T18:15:15.826868Z",
     "iopub.status.busy": "2023-08-08T18:15:15.826868Z",
     "iopub.status.idle": "2023-08-08T18:15:15.847200Z",
     "shell.execute_reply": "2023-08-08T18:15:15.846187Z",
     "shell.execute_reply.started": "2023-08-08T18:15:15.826868Z"
    }
   },
   "outputs": [
    {
     "data": {
      "text/plain": [
       "True"
      ]
     },
     "execution_count": 44,
     "metadata": {},
     "output_type": "execute_result"
    }
   ],
   "source": [
    "load_dotenv('../.env')"
   ]
  },
  {
   "cell_type": "code",
   "execution_count": 45,
   "id": "4ef55110-ab1b-4f14-abe6-fa8f61c0d696",
   "metadata": {
    "execution": {
     "iopub.execute_input": "2023-08-08T18:15:16.475348Z",
     "iopub.status.busy": "2023-08-08T18:15:16.475348Z",
     "iopub.status.idle": "2023-08-08T18:15:16.494750Z",
     "shell.execute_reply": "2023-08-08T18:15:16.493743Z",
     "shell.execute_reply.started": "2023-08-08T18:15:16.475348Z"
    }
   },
   "outputs": [],
   "source": [
    "openai.organization = os.getenv(\"OPENAI_ORG\")\n",
    "openai.api_key = os.getenv(\"OPENAI_API_KEY\")"
   ]
  },
  {
   "cell_type": "code",
   "execution_count": 50,
   "id": "e5ab2c7c-fd7e-43b7-9d15-a983575adf2b",
   "metadata": {
    "execution": {
     "iopub.execute_input": "2023-08-08T18:30:57.669601Z",
     "iopub.status.busy": "2023-08-08T18:30:57.669601Z",
     "iopub.status.idle": "2023-08-08T18:31:00.120340Z",
     "shell.execute_reply": "2023-08-08T18:31:00.120340Z",
     "shell.execute_reply.started": "2023-08-08T18:30:57.669601Z"
    }
   },
   "outputs": [
    {
     "name": "stdout",
     "output_type": "stream",
     "text": [
      "При использовании библиотеки pandas в Python можно использовать метод head() для вывода первых пяти строк данных из DataFrame и метод describe() для получения основных статистических показателей по колонкам.\n"
     ]
    }
   ],
   "source": [
    "response = openai.ChatCompletion.create(model='gpt-3.5-turbo',\n",
    "                                        messages=[\n",
    "                                            {\"role\": \"system\", \"content\": \"You are an experienced Data Science Specialist. Students come to you. They need short useful practical notes. The length of the note should not exceed two sentences. The note should be on any one of the following topics: Python programming, basic machine learning algorithms, Python libraries: pandas, sklearn, numpy, plotly, seaborn. You need to answer only in Russian.\"},\n",
    "                                            {\"role\": \"user\", \"content\": \"give practical note\"}])\n",
    "print(response['choices'][0]['message']['content'])"
   ]
  },
  {
   "cell_type": "code",
   "execution_count": null,
   "id": "5fa24a09-7d9e-41b5-bc1d-2ee397347c4b",
   "metadata": {},
   "outputs": [],
   "source": []
  }
 ],
 "metadata": {
  "kernelspec": {
   "display_name": "Python 3 (ipykernel)",
   "language": "python",
   "name": "python3"
  },
  "language_info": {
   "codemirror_mode": {
    "name": "ipython",
    "version": 3
   },
   "file_extension": ".py",
   "mimetype": "text/x-python",
   "name": "python",
   "nbconvert_exporter": "python",
   "pygments_lexer": "ipython3",
   "version": "3.10.11"
  }
 },
 "nbformat": 4,
 "nbformat_minor": 5
}
