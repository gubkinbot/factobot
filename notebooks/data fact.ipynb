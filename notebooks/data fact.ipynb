{
 "cells": [
  {
   "cell_type": "code",
   "execution_count": 1,
   "id": "91cea83e-8bff-4685-86d3-41121c0fa2ed",
   "metadata": {
    "execution": {
     "iopub.execute_input": "2023-08-08T17:15:24.692826Z",
     "iopub.status.busy": "2023-08-08T17:15:24.692826Z",
     "iopub.status.idle": "2023-08-08T17:15:24.724369Z",
     "shell.execute_reply": "2023-08-08T17:15:24.724369Z",
     "shell.execute_reply.started": "2023-08-08T17:15:24.692826Z"
    }
   },
   "outputs": [
    {
     "data": {
      "text/plain": [
       "[0, 1, 2, 3, 4]"
      ]
     },
     "execution_count": 1,
     "metadata": {},
     "output_type": "execute_result"
    }
   ],
   "source": [
    "[i for i in range(5)]"
   ]
  }
 ],
 "metadata": {
  "kernelspec": {
   "display_name": "Python 3 (ipykernel)",
   "language": "python",
   "name": "python3"
  },
  "language_info": {
   "codemirror_mode": {
    "name": "ipython",
    "version": 3
   },
   "file_extension": ".py",
   "mimetype": "text/x-python",
   "name": "python",
   "nbconvert_exporter": "python",
   "pygments_lexer": "ipython3",
   "version": "3.10.11"
  }
 },
 "nbformat": 4,
 "nbformat_minor": 5
}
