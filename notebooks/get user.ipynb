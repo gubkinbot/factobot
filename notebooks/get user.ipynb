{
 "cells": [
  {
   "cell_type": "markdown",
   "id": "023b62a6-a2bb-4a8b-8314-bc52551779d0",
   "metadata": {},
   "source": [
    "# Подготовка модуля регистрации пользователя"
   ]
  },
  {
   "cell_type": "code",
   "execution_count": 1,
   "id": "e975a05e-1d11-4cd6-989f-4e66f06dd8c0",
   "metadata": {
    "execution": {
     "iopub.execute_input": "2023-08-08T09:51:52.092147Z",
     "iopub.status.busy": "2023-08-08T09:51:52.092147Z",
     "iopub.status.idle": "2023-08-08T09:51:52.651725Z",
     "shell.execute_reply": "2023-08-08T09:51:52.651725Z",
     "shell.execute_reply.started": "2023-08-08T09:51:52.092147Z"
    }
   },
   "outputs": [],
   "source": [
    "import pandas as pd\n",
    "import random\n",
    "import string\n",
    "import bcrypt"
   ]
  },
  {
   "cell_type": "markdown",
   "id": "d3dfbd19-d740-42da-8cfd-c9247e128b54",
   "metadata": {},
   "source": [
    "## Шаг 1. Создание таблицы пользователей"
   ]
  },
  {
   "cell_type": "code",
   "execution_count": 2,
   "id": "bc2b6ccb-6031-414a-b290-94e058916ca4",
   "metadata": {
    "execution": {
     "iopub.execute_input": "2023-08-08T09:51:52.654718Z",
     "iopub.status.busy": "2023-08-08T09:51:52.653722Z",
     "iopub.status.idle": "2023-08-08T09:51:52.667832Z",
     "shell.execute_reply": "2023-08-08T09:51:52.667832Z",
     "shell.execute_reply.started": "2023-08-08T09:51:52.654718Z"
    }
   },
   "outputs": [
    {
     "data": {
      "text/plain": [
       "'\\nCREATE TABLE users (\\n    id INT AUTO_INCREMENT PRIMARY KEY,\\n    login INT NOT NULL,\\n    password VARCHAR(255) NOT NULL,\\n    date_registration DATE NOT NULL\\n)\\n'"
      ]
     },
     "execution_count": 2,
     "metadata": {},
     "output_type": "execute_result"
    }
   ],
   "source": [
    "'''\n",
    "CREATE TABLE users (\n",
    "    id INT AUTO_INCREMENT PRIMARY KEY,\n",
    "    login INT NOT NULL,\n",
    "    password VARCHAR(255) NOT NULL,\n",
    "    date_registration DATE NOT NULL\n",
    ")\n",
    "'''"
   ]
  },
  {
   "cell_type": "markdown",
   "id": "23055a22-52d5-4cf6-b44e-54c82d1845a8",
   "metadata": {},
   "source": [
    "- id - уникальный id пользователя\n",
    "- login - имя пользователя, равное user_id пользователя\n",
    "- password - пароль пользователя для добавления своих заметок через веб-интерфейс\n",
    "- date_registration - дата регистрации пользователя в боте"
   ]
  },
  {
   "cell_type": "markdown",
   "id": "83b013c0-b2b2-44c6-8d22-547098b14e0e",
   "metadata": {},
   "source": [
    "## Шаг 2. Генерация пароля"
   ]
  },
  {
   "cell_type": "code",
   "execution_count": 3,
   "id": "c9039224-ab8f-410d-a867-c03bd77e5355",
   "metadata": {
    "execution": {
     "iopub.execute_input": "2023-08-08T09:51:52.670370Z",
     "iopub.status.busy": "2023-08-08T09:51:52.669328Z",
     "iopub.status.idle": "2023-08-08T09:51:52.684675Z",
     "shell.execute_reply": "2023-08-08T09:51:52.683677Z",
     "shell.execute_reply.started": "2023-08-08T09:51:52.670370Z"
    }
   },
   "outputs": [],
   "source": [
    "def generate_password():\n",
    "    return ''.join(random.choice(string.ascii_letters + string.digits) for _ in range(8))"
   ]
  },
  {
   "cell_type": "code",
   "execution_count": 4,
   "id": "93633cd2-8a48-4dbd-9b04-c5f6928d8ca1",
   "metadata": {
    "execution": {
     "iopub.execute_input": "2023-08-08T09:51:52.687680Z",
     "iopub.status.busy": "2023-08-08T09:51:52.687680Z",
     "iopub.status.idle": "2023-08-08T09:51:52.700704Z",
     "shell.execute_reply": "2023-08-08T09:51:52.699682Z",
     "shell.execute_reply.started": "2023-08-08T09:51:52.687680Z"
    }
   },
   "outputs": [],
   "source": [
    "password = generate_password()"
   ]
  },
  {
   "cell_type": "code",
   "execution_count": 5,
   "id": "85a32b93-8a3a-4583-a743-42ae4f835a8e",
   "metadata": {
    "execution": {
     "iopub.execute_input": "2023-08-08T09:51:52.701693Z",
     "iopub.status.busy": "2023-08-08T09:51:52.701693Z",
     "iopub.status.idle": "2023-08-08T09:51:52.716242Z",
     "shell.execute_reply": "2023-08-08T09:51:52.714702Z",
     "shell.execute_reply.started": "2023-08-08T09:51:52.701693Z"
    }
   },
   "outputs": [
    {
     "name": "stdout",
     "output_type": "stream",
     "text": [
      "n4wdITWt\n"
     ]
    }
   ],
   "source": [
    "print(password)"
   ]
  },
  {
   "cell_type": "markdown",
   "id": "84ee89cd-f599-4085-baa1-89a12a991c0d",
   "metadata": {},
   "source": [
    "## Шаг 3. Шифрование пароля"
   ]
  },
  {
   "cell_type": "code",
   "execution_count": 6,
   "id": "121730c0-e7ce-4f16-9112-92dfe32c2ad7",
   "metadata": {
    "execution": {
     "iopub.execute_input": "2023-08-08T09:51:52.717241Z",
     "iopub.status.busy": "2023-08-08T09:51:52.717241Z",
     "iopub.status.idle": "2023-08-08T09:51:52.970349Z",
     "shell.execute_reply": "2023-08-08T09:51:52.969355Z",
     "shell.execute_reply.started": "2023-08-08T09:51:52.717241Z"
    }
   },
   "outputs": [],
   "source": [
    "salt = bcrypt.gensalt()\n",
    "hashed_password = bcrypt.hashpw(password.encode('utf-8'), salt)"
   ]
  },
  {
   "cell_type": "code",
   "execution_count": 7,
   "id": "0bbdbb7c-3e36-4af1-b618-2f81e98cecd4",
   "metadata": {
    "execution": {
     "iopub.execute_input": "2023-08-08T09:51:52.973361Z",
     "iopub.status.busy": "2023-08-08T09:51:52.972366Z",
     "iopub.status.idle": "2023-08-08T09:51:52.985932Z",
     "shell.execute_reply": "2023-08-08T09:51:52.984924Z",
     "shell.execute_reply.started": "2023-08-08T09:51:52.973361Z"
    }
   },
   "outputs": [
    {
     "name": "stdout",
     "output_type": "stream",
     "text": [
      "b'$2b$12$/9hXTyOTNzjA7p9Dc65AmuzH3aKbDgF9pTf3WJGGZQUIXtvzLS/cC'\n"
     ]
    }
   ],
   "source": [
    "print(hashed_password)"
   ]
  },
  {
   "cell_type": "code",
   "execution_count": 8,
   "id": "a80e0409-1068-480a-9f2a-309e6e9f6a7a",
   "metadata": {
    "execution": {
     "iopub.execute_input": "2023-08-08T09:51:52.988297Z",
     "iopub.status.busy": "2023-08-08T09:51:52.987049Z",
     "iopub.status.idle": "2023-08-08T09:51:53.253709Z",
     "shell.execute_reply": "2023-08-08T09:51:53.252705Z",
     "shell.execute_reply.started": "2023-08-08T09:51:52.988297Z"
    }
   },
   "outputs": [
    {
     "name": "stdout",
     "output_type": "stream",
     "text": [
      "Пароль верный!\n"
     ]
    }
   ],
   "source": [
    "input_password = password.encode('utf-8')\n",
    "if bcrypt.checkpw(input_password, hashed_password):\n",
    "    print(\"Пароль верный!\")\n",
    "else:\n",
    "    print(\"Пароль неверный!\")"
   ]
  }
 ],
 "metadata": {
  "kernelspec": {
   "display_name": "Python 3 (ipykernel)",
   "language": "python",
   "name": "python3"
  },
  "language_info": {
   "codemirror_mode": {
    "name": "ipython",
    "version": 3
   },
   "file_extension": ".py",
   "mimetype": "text/x-python",
   "name": "python",
   "nbconvert_exporter": "python",
   "pygments_lexer": "ipython3",
   "version": "3.10.11"
  }
 },
 "nbformat": 4,
 "nbformat_minor": 5
}
