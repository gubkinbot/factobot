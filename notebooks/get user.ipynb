{
 "cells": [
  {
   "cell_type": "code",
   "execution_count": 2,
   "id": "e975a05e-1d11-4cd6-989f-4e66f06dd8c0",
   "metadata": {
    "execution": {
     "iopub.execute_input": "2023-08-08T08:03:34.559907Z",
     "iopub.status.busy": "2023-08-08T08:03:34.559907Z",
     "iopub.status.idle": "2023-08-08T08:03:36.382047Z",
     "shell.execute_reply": "2023-08-08T08:03:36.382047Z",
     "shell.execute_reply.started": "2023-08-08T08:03:34.559907Z"
    }
   },
   "outputs": [],
   "source": [
    "import pandas as pd"
   ]
  },
  {
   "cell_type": "markdown",
   "id": "d3dfbd19-d740-42da-8cfd-c9247e128b54",
   "metadata": {},
   "source": [
    "## Шаг 1. Создание таблицы пользователей"
   ]
  },
  {
   "cell_type": "code",
   "execution_count": 3,
   "id": "bc2b6ccb-6031-414a-b290-94e058916ca4",
   "metadata": {
    "execution": {
     "iopub.execute_input": "2023-08-08T09:29:14.640403Z",
     "iopub.status.busy": "2023-08-08T09:29:14.640403Z",
     "iopub.status.idle": "2023-08-08T09:29:14.656783Z",
     "shell.execute_reply": "2023-08-08T09:29:14.656444Z",
     "shell.execute_reply.started": "2023-08-08T09:29:14.640403Z"
    }
   },
   "outputs": [
    {
     "data": {
      "text/plain": [
       "'\\nCREATE TABLE users (\\n    id INT AUTO_INCREMENT PRIMARY KEY,\\n    login INT NOT NULL,\\n    password VARCHAR(255) NOT NULL,\\n    date_registration DATE NOT NULL\\n)\\n'"
      ]
     },
     "execution_count": 3,
     "metadata": {},
     "output_type": "execute_result"
    }
   ],
   "source": [
    "'''\n",
    "CREATE TABLE users (\n",
    "    id INT AUTO_INCREMENT PRIMARY KEY,\n",
    "    login INT NOT NULL,\n",
    "    password VARCHAR(255) NOT NULL,\n",
    "    date_registration DATE NOT NULL\n",
    ")\n",
    "'''"
   ]
  },
  {
   "cell_type": "markdown",
   "id": "23055a22-52d5-4cf6-b44e-54c82d1845a8",
   "metadata": {},
   "source": [
    "- id - уникальный id пользователя\n",
    "- login - имя пользователя, равное user_id пользователя\n",
    "- password - пароль пользователя для добавления своих заметок через веб-интерфейс\n",
    "- date_registration - дата регистрации пользователя в боте"
   ]
  }
 ],
 "metadata": {
  "kernelspec": {
   "display_name": "Python 3 (ipykernel)",
   "language": "python",
   "name": "python3"
  },
  "language_info": {
   "codemirror_mode": {
    "name": "ipython",
    "version": 3
   },
   "file_extension": ".py",
   "mimetype": "text/x-python",
   "name": "python",
   "nbconvert_exporter": "python",
   "pygments_lexer": "ipython3",
   "version": "3.10.11"
  }
 },
 "nbformat": 4,
 "nbformat_minor": 5
}
